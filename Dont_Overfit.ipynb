{
 "cells": [
  {
   "cell_type": "markdown",
   "metadata": {},
   "source": [
    "## Libraries used"
   ]
  },
  {
   "cell_type": "code",
   "execution_count": 1,
   "metadata": {
    "collapsed": true
   },
   "outputs": [],
   "source": [
    "import pandas as pd\n",
    "import numpy as np\n",
    "from sklearn.linear_model import LogisticRegression\n",
    "from sklearn.svm import LinearSVC\n",
    "from sklearn.pipeline import make_pipeline\n",
    "from sklearn.preprocessing import StandardScaler\n",
    "from sklearn.impute import SimpleImputer\n",
    "from sklearn.model_selection import cross_val_score\n",
    "from sklearn.compose import make_column_transformer, ColumnTransformer\n",
    "from sklearn.model_selection import GridSearchCV\n",
    "from sklearn.feature_selection import SelectKBest, SelectPercentile, SelectFpr, f_classif, \\\n",
    "mutual_info_classif, SelectFromModel\n",
    "import warnings\n",
    "warnings.filterwarnings('ignore')"
   ]
  },
  {
   "cell_type": "markdown",
   "metadata": {},
   "source": [
    "## Read data"
   ]
  },
  {
   "cell_type": "code",
   "execution_count": 2,
   "metadata": {
    "collapsed": true
   },
   "outputs": [],
   "source": [
    "train = pd.read_csv('train.csv')\n",
    "test = pd.read_csv('test.csv')\n",
    "X_train = train.iloc[:,2:]\n",
    "y_train = train.iloc[:,1]\n",
    "X_test = test.iloc[:,1:]"
   ]
  },
  {
   "cell_type": "markdown",
   "metadata": {},
   "source": [
    "## Generate output csv for submission"
   ]
  },
  {
   "cell_type": "code",
   "execution_count": 3,
   "metadata": {
    "collapsed": true
   },
   "outputs": [],
   "source": [
    "def genop(pred):\n",
    "    df = pd.DataFrame()\n",
    "    df['id'] = test['id']\n",
    "    df['target'] = pred\n",
    "    df.to_csv('output.csv', index=False)"
   ]
  },
  {
   "cell_type": "markdown",
   "metadata": {},
   "source": [
    "## Check correlation of features"
   ]
  },
  {
   "cell_type": "code",
   "execution_count": 4,
   "metadata": {},
   "outputs": [
    {
     "name": "stdout",
     "output_type": "stream",
     "text": [
      "Top Absolute Correlations\n",
      "32   75     0.259315\n",
      "101  193    0.252825\n",
      "22   28     0.246062\n",
      "140  187    0.244012\n",
      "79   187    0.243916\n",
      "dtype: float64\n"
     ]
    }
   ],
   "source": [
    "def get_redundant_pairs(df):\n",
    "    '''Get diagonal and lower triangular pairs of correlation matrix'''\n",
    "    pairs_to_drop = set()\n",
    "    cols = df.columns\n",
    "    for i in range(0, df.shape[1]):\n",
    "        for j in range(0, i+1):\n",
    "            pairs_to_drop.add((cols[i], cols[j]))\n",
    "    return pairs_to_drop\n",
    "\n",
    "def get_top_abs_correlations(df, n=5):\n",
    "    au_corr = df.corr().abs().unstack()\n",
    "    labels_to_drop = get_redundant_pairs(df)\n",
    "    au_corr = au_corr.drop(labels=labels_to_drop).sort_values(ascending=False)\n",
    "    return au_corr[0:n]\n",
    "\n",
    "print(\"Top Absolute Correlations\")\n",
    "print(get_top_abs_correlations(X_train, 5))"
   ]
  },
  {
   "cell_type": "markdown",
   "metadata": {},
   "source": [
    "As we can see the features have no correlation"
   ]
  },
  {
   "cell_type": "markdown",
   "metadata": {},
   "source": [
    "## Baseline Linear Model (logistic regression)"
   ]
  },
  {
   "cell_type": "code",
   "execution_count": 5,
   "metadata": {},
   "outputs": [
    {
     "name": "stdout",
     "output_type": "stream",
     "text": [
      "The auc-roc scores are  [0.72962963 0.71069182 0.65849057]\n"
     ]
    }
   ],
   "source": [
    "cont_scale_pipeline = make_pipeline(SimpleImputer(strategy = \"median\"), StandardScaler())\n",
    "pipe_scale = make_pipeline(cont_scale_pipeline, LogisticRegression())\n",
    "scores_pipe_scale = cross_val_score(pipe_scale, X_train, y_train, cv=3, scoring='roc_auc')\n",
    "model = pipe_scale.fit(X_train, y_train)\n",
    "pred = model.predict(X_test)\n",
    "print(\"The auc-roc scores are \",scores_pipe_scale)\n",
    "genop(pred)"
   ]
  },
  {
   "cell_type": "markdown",
   "metadata": {},
   "source": [
    "This model got a public score of 0.666 on Kaggle"
   ]
  },
  {
   "cell_type": "markdown",
   "metadata": {},
   "source": [
    "## Baseline Linear Model (Linear SVC)"
   ]
  },
  {
   "cell_type": "code",
   "execution_count": 6,
   "metadata": {},
   "outputs": [
    {
     "name": "stdout",
     "output_type": "stream",
     "text": [
      "The auc-roc scores are  [0.74135802 0.70377358 0.62515723]\n"
     ]
    }
   ],
   "source": [
    "cont_scale_pipeline = make_pipeline(SimpleImputer(strategy = \"median\"), StandardScaler())\n",
    "pipe_scale = make_pipeline(cont_scale_pipeline, LinearSVC())\n",
    "scores_pipe_scale = cross_val_score(pipe_scale, X_train, y_train, cv=3, scoring='roc_auc')\n",
    "model = pipe_scale.fit(X_train, y_train)\n",
    "pred = model.predict(X_test)\n",
    "print(\"The auc-roc scores are \",scores_pipe_scale)\n",
    "genop(pred)"
   ]
  },
  {
   "cell_type": "markdown",
   "metadata": {},
   "source": [
    "This model got a public score of 0.656 on Kaggle"
   ]
  },
  {
   "cell_type": "markdown",
   "metadata": {},
   "source": [
    "## Feature Selection "
   ]
  },
  {
   "cell_type": "markdown",
   "metadata": {},
   "source": [
    "### SelectKbest technique (K=35)"
   ]
  },
  {
   "cell_type": "code",
   "execution_count": 7,
   "metadata": {},
   "outputs": [
    {
     "name": "stdout",
     "output_type": "stream",
     "text": [
      "(250, 300)\n",
      "(250, 35)\n",
      "The auc-roc scores are  [0.7308642  0.70628931 0.67861635]\n"
     ]
    }
   ],
   "source": [
    "select = SelectKBest(k=35, score_func=f_classif)\n",
    "select.fit(X_train, y_train)\n",
    "print(X_train.shape)\n",
    "print(select.transform(X_train).shape)\n",
    "up_X_train = pd.DataFrame(select.transform(X_train))\n",
    "up_X_test = pd.DataFrame(select.transform(X_test))\n",
    "\n",
    "\n",
    "cont_scale_pipeline = make_pipeline(SimpleImputer(strategy = \"median\"), StandardScaler())\n",
    "pipe_scale = make_pipeline(cont_scale_pipeline, LogisticRegression(C=0.1))\n",
    "scores_pipe_scale = cross_val_score(pipe_scale, X_train, y_train, cv=3, scoring='roc_auc')\n",
    "model = pipe_scale.fit(up_X_train, y_train)\n",
    "pred = model.predict(up_X_test)\n",
    "print(\"The auc-roc scores are \",scores_pipe_scale)\n",
    "genop(pred)\n"
   ]
  },
  {
   "cell_type": "markdown",
   "metadata": {},
   "source": [
    "This model got a public score of 0.722 on Kaggle"
   ]
  },
  {
   "cell_type": "markdown",
   "metadata": {},
   "source": [
    "### SelectKbest technique (K=75)"
   ]
  },
  {
   "cell_type": "code",
   "execution_count": 8,
   "metadata": {},
   "outputs": [
    {
     "name": "stdout",
     "output_type": "stream",
     "text": [
      "(250, 300)\n",
      "(250, 75)\n",
      "The auc-roc scores are  [0.7308642  0.70628931 0.67861635]\n"
     ]
    }
   ],
   "source": [
    "select = SelectKBest(k=75, score_func=f_classif)\n",
    "select.fit(X_train, y_train)\n",
    "print(X_train.shape)\n",
    "print(select.transform(X_train).shape)\n",
    "up_X_train = pd.DataFrame(select.transform(X_train))\n",
    "up_X_test = pd.DataFrame(select.transform(X_test))\n",
    "\n",
    "\n",
    "cont_scale_pipeline = make_pipeline(SimpleImputer(strategy = \"median\"), StandardScaler())\n",
    "pipe_scale = make_pipeline(cont_scale_pipeline, LogisticRegression(C=0.1))\n",
    "scores_pipe_scale = cross_val_score(pipe_scale, X_train, y_train, cv=3, scoring='roc_auc')\n",
    "model = pipe_scale.fit(up_X_train, y_train)\n",
    "pred = model.predict(up_X_test)\n",
    "print(\"The auc-roc scores are \",scores_pipe_scale)\n",
    "genop(pred)\n"
   ]
  },
  {
   "cell_type": "markdown",
   "metadata": {},
   "source": [
    "This model got a public score of 0.706 on Kaggle"
   ]
  }
 ],
 "metadata": {
  "kernelspec": {
   "display_name": "Python [conda env:anaconda3]",
   "language": "python",
   "name": "conda-env-anaconda3-py"
  },
  "language_info": {
   "codemirror_mode": {
    "name": "ipython",
    "version": 3
   },
   "file_extension": ".py",
   "mimetype": "text/x-python",
   "name": "python",
   "nbconvert_exporter": "python",
   "pygments_lexer": "ipython3",
   "version": "3.6.8"
  }
 },
 "nbformat": 4,
 "nbformat_minor": 2
}
